{
 "cells": [
  {
   "cell_type": "code",
   "id": "initial_id",
   "metadata": {
    "collapsed": true
   },
   "source": "import asyncio\n",
   "outputs": [],
   "execution_count": null
  },
  {
   "metadata": {},
   "cell_type": "code",
   "source": [
    "async def my_async_function():\n",
    "    # Your asynchronous code here\n",
    "    print(\"Entering async function...\")\n",
    "    await asyncio.sleep(1)\n",
    "    return \"Hello from async function\""
   ],
   "id": "b11a9658f76a8482",
   "outputs": [],
   "execution_count": null
  },
  {
   "metadata": {},
   "cell_type": "code",
   "source": [
    "result = await my_async_function()\n",
    "print(result)"
   ],
   "id": "d6300f2551e87f76",
   "outputs": [],
   "execution_count": null
  },
  {
   "metadata": {},
   "cell_type": "markdown",
   "source": [
    "# Calling asyncio.run does not work in a Jupyter notebook\n",
    "\n",
    "Because Jupyter Notebooks already run an event loop internally to handle asynchronous operations.\n",
    "When you try to use asyncio.run(), it attempts to create another event loop, leading to the error: RuntimeError: This event loop is already running."
   ],
   "id": "ed096255e561512a"
  },
  {
   "metadata": {},
   "cell_type": "code",
   "source": "asyncio.run(my_async_function())",
   "id": "21288dff69e85a8b",
   "outputs": [],
   "execution_count": null
  },
  {
   "metadata": {},
   "cell_type": "code",
   "source": [
    "import os\n",
    "import logging\n",
    "\n",
    "\n",
    "def setup_logging(debug: bool = False) -> logging.Logger:\n",
    "    \"\"\"\n",
    "    Set up the logging for the project.\n",
    "    :return: None.\n",
    "    \"\"\"\n",
    "    stdout_handler = logging.StreamHandler()\n",
    "    logging_format = logging.Formatter(\"%(asctime)s | %(threadName)s | %(levelname)s | %(name).8s | %(message)s\")\n",
    "    stdout_handler.setFormatter(logging_format)\n",
    "\n",
    "    logger = logging.getLogger(\"examples\")\n",
    "    logger.addHandler(stdout_handler)\n",
    "\n",
    "    if debug:\n",
    "        logger.setLevel(level=logging.DEBUG)\n",
    "    else:\n",
    "        logger.setLevel(level=logging.INFO)\n",
    "\n",
    "    path = \"./logs\"\n",
    "    if not os.path.exists(path):\n",
    "        # Create a new directory because it does not exist\n",
    "        os.makedirs(path)\n",
    "        print(f\"Logs directory {path} created.\")\n",
    "    file_handler = logging.FileHandler(f\"{path}/main.log\", mode='w')\n",
    "    file_handler.setFormatter(logging_format)\n",
    "    logger.addHandler(file_handler)\n",
    "\n",
    "    logger.info(\"Logger %s set\", logger)\n",
    "\n",
    "    return logger\n"
   ],
   "id": "13b9a379cbca9181",
   "outputs": [],
   "execution_count": null
  },
  {
   "metadata": {},
   "cell_type": "code",
   "source": "setup_logging()",
   "id": "af521fab367bb4eb",
   "outputs": [],
   "execution_count": null
  },
  {
   "metadata": {},
   "cell_type": "code",
   "source": [
    "from async_io_example1 import run_example as run_example_1\n",
    "await run_example_1()"
   ],
   "id": "2547b2f483ebd95e",
   "outputs": [],
   "execution_count": null
  },
  {
   "metadata": {},
   "cell_type": "code",
   "source": [
    "from async_io_example2 import run_example as run_example_2\n",
    "await run_example_2()"
   ],
   "id": "c46caedeea9be11b",
   "outputs": [],
   "execution_count": null
  },
  {
   "metadata": {},
   "cell_type": "code",
   "source": [
    "from async_io_example3 import run_example as run_example_3\n",
    "args = [1, 2, 3]\n",
    "await run_example_3(*args)"
   ],
   "id": "9f6efc49aaa8f936",
   "outputs": [],
   "execution_count": null
  },
  {
   "metadata": {},
   "cell_type": "code",
   "source": [
    "from async_io_example4 import run_example as run_example_4\n",
    "await run_example_4(4, 4)"
   ],
   "id": "995a60810a485263",
   "outputs": [],
   "execution_count": null
  },
  {
   "metadata": {},
   "cell_type": "code",
   "source": "",
   "id": "4ff95b94690c046",
   "outputs": [],
   "execution_count": null
  }
 ],
 "metadata": {
  "kernelspec": {
   "display_name": "Python 3",
   "language": "python",
   "name": "python3"
  },
  "language_info": {
   "codemirror_mode": {
    "name": "ipython",
    "version": 2
   },
   "file_extension": ".py",
   "mimetype": "text/x-python",
   "name": "python",
   "nbconvert_exporter": "python",
   "pygments_lexer": "ipython2",
   "version": "2.7.6"
  }
 },
 "nbformat": 4,
 "nbformat_minor": 5
}
