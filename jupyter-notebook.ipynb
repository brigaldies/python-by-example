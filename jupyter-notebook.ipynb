{
 "cells": [
  {
   "cell_type": "code",
   "execution_count": 1,
   "id": "initial_id",
   "metadata": {
    "ExecuteTime": {
     "end_time": "2024-02-11T15:38:44.629458Z",
     "start_time": "2024-02-11T15:38:44.617595Z"
    }
   },
   "outputs": [
    {
     "name": "stdout",
     "output_type": "stream",
     "text": [
      "2024-02-11 12:39:20,582 | INFO | root | Logger <RootLogger root (INFO)> set\n"
     ]
    }
   ],
   "source": [
    "import logging\n",
    "import sys\n",
    "from typing import Callable\n",
    "from examples.registry import registry\n",
    "from examples.typehints import type_hints_example\n",
    "\n",
    "logging_format = logging.Formatter(\"%(asctime)s | %(levelname)s | %(name).8s | %(message)s\")\n",
    "logger = logging.getLogger()\n",
    "logger.setLevel(level=logging.INFO)\n",
    "\n",
    "stdout_handler = logging.StreamHandler(sys.stdout)\n",
    "stdout_handler.setFormatter(logging_format)\n",
    "logger.addHandler(stdout_handler)\n",
    "\n",
    "file_handler = logging.FileHandler(\"jupyter-notebook.log\", mode='w')\n",
    "file_handler.setFormatter(logging_format)\n",
    "logger.addHandler(file_handler)\n",
    "\n",
    "logging.info(f\"Logger {logger} set\")"
   ]
  },
  {
   "cell_type": "code",
   "execution_count": 2,
   "id": "9a1692f6fba95c98",
   "metadata": {
    "ExecuteTime": {
     "end_time": "2024-02-11T15:39:12.223524Z",
     "start_time": "2024-02-11T15:39:12.219003Z"
    },
    "collapsed": false,
    "jupyter": {
     "outputs_hidden": false
    }
   },
   "outputs": [
    {
     "name": "stdout",
     "output_type": "stream",
     "text": [
      "2024-02-11 12:39:21,388 | INFO | root | 1 examples registered.\n"
     ]
    }
   ],
   "source": [
    "registered_examples: dict[str, Callable[[bool], None]] = registry.register_examples()"
   ]
  },
  {
   "cell_type": "code",
   "execution_count": 3,
   "id": "62d44e2c15543c86",
   "metadata": {
    "ExecuteTime": {
     "end_time": "2024-02-11T15:38:58.373996Z",
     "start_time": "2024-02-11T15:38:58.366018Z"
    },
    "collapsed": false,
    "jupyter": {
     "outputs_hidden": false
    }
   },
   "outputs": [
    {
     "name": "stdout",
     "output_type": "stream",
     "text": [
      "2024-02-11 12:39:21,937 | INFO | root | number: int = 1\n",
      "2024-02-11 12:39:21,938 | INFO | root | Greetings: {'morning': 'Good morning bertrand', 'afternoon': 'Good afternoon bertrand', 'evening': 'Good evening bertrand'}\n"
     ]
    }
   ],
   "source": [
    "assert 'type-hints' in registered_examples.keys()\n",
    "registered_examples['type-hints'](True)"
   ]
  },
  {
   "cell_type": "code",
   "execution_count": 4,
   "id": "1acbfdca98e2191c",
   "metadata": {
    "ExecuteTime": {
     "end_time": "2024-02-11T15:38:59.509940Z",
     "start_time": "2024-02-11T15:38:59.500347Z"
    },
    "collapsed": false,
    "jupyter": {
     "outputs_hidden": false
    }
   },
   "outputs": [
    {
     "name": "stdout",
     "output_type": "stream",
     "text": [
      "2024-02-11 12:39:22,504 | INFO | root | number: int = 1\n",
      "2024-02-11 12:39:22,505 | INFO | root | Greetings: {'morning': 'Good morning bertrand', 'afternoon': 'Good afternoon bertrand', 'evening': 'Good evening bertrand'}\n"
     ]
    }
   ],
   "source": [
    "type_hints_example.run_examples(debug=True)"
   ]
  },
  {
   "cell_type": "code",
   "execution_count": null,
   "id": "5898dad976335599",
   "metadata": {
    "ExecuteTime": {
     "end_time": "2024-02-11T15:25:56.476015Z",
     "start_time": "2024-02-11T15:25:56.466934Z"
    },
    "collapsed": false,
    "jupyter": {
     "outputs_hidden": false
    }
   },
   "outputs": [],
   "source": []
  },
  {
   "cell_type": "code",
   "execution_count": null,
   "id": "5ec8be071f0a7562",
   "metadata": {
    "collapsed": false,
    "jupyter": {
     "outputs_hidden": false
    }
   },
   "outputs": [],
   "source": []
  }
 ],
 "metadata": {
  "kernelspec": {
   "display_name": "Python 3 (ipykernel)",
   "language": "python",
   "name": "python3"
  },
  "language_info": {
   "codemirror_mode": {
    "name": "ipython",
    "version": 3
   },
   "file_extension": ".py",
   "mimetype": "text/x-python",
   "name": "python",
   "nbconvert_exporter": "python",
   "pygments_lexer": "ipython3",
   "version": "3.12.1"
  }
 },
 "nbformat": 4,
 "nbformat_minor": 5
}
